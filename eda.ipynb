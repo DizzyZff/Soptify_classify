{
 "cells": [
  {
   "cell_type": "code",
   "execution_count": 1,
   "outputs": [],
   "source": [
    "import pandas as pd\n",
    "import sqlite3\n",
    "import plotly.express as px\n",
    "import seaborn as sns\n",
    "import matplotlib.pyplot as plt\n",
    "sns.set(rc={'axes.facecolor':'#eae6dd', 'figure.facecolor':'#eae6dd'})"
   ],
   "metadata": {
    "collapsed": false,
    "pycharm": {
     "name": "#%%\n"
    }
   }
  },
  {
   "cell_type": "code",
   "execution_count": 2,
   "outputs": [
    {
     "name": "stdout",
     "output_type": "stream",
     "text": [
      "Data loaded\n"
     ]
    }
   ],
   "source": [
    "data_path = 'musicData.db'\n",
    "conn = sqlite3.connect(data_path)\n",
    "cur = conn.cursor()\n",
    "df = pd.read_sql_query(\"SELECT * FROM musicData_clean\", conn)\n",
    "conn.close()\n",
    "print(\"Data loaded\")"
   ],
   "metadata": {
    "collapsed": false,
    "pycharm": {
     "name": "#%%\n"
    }
   }
  },
  {
   "cell_type": "code",
   "execution_count": 1,
   "outputs": [],
   "source": [],
   "metadata": {
    "collapsed": false,
    "pycharm": {
     "name": "#%%\n"
    }
   }
  },
  {
   "cell_type": "code",
   "execution_count": 5,
   "outputs": [
    {
     "name": "stdout",
     "output_type": "stream",
     "text": [
      "<class 'pandas.core.frame.DataFrame'>\n",
      "RangeIndex: 50000 entries, 0 to 49999\n",
      "Data columns (total 19 columns):\n",
      " #   Column            Non-Null Count  Dtype  \n",
      "---  ------            --------------  -----  \n",
      " 0   instance_id       50000 non-null  float64\n",
      " 1   artist_name       50000 non-null  object \n",
      " 2   track_name        50000 non-null  object \n",
      " 3   popularity        49306 non-null  float64\n",
      " 4   acousticness      49999 non-null  float64\n",
      " 5   danceability      50000 non-null  float64\n",
      " 6   duration_ms       45061 non-null  float64\n",
      " 7   energy            50000 non-null  float64\n",
      " 8   instrumentalness  34999 non-null  float64\n",
      " 9   key               50000 non-null  float64\n",
      " 10  liveness          50000 non-null  float64\n",
      " 11  loudness          50000 non-null  float64\n",
      " 12  speechiness       50000 non-null  float64\n",
      " 13  tempo             45020 non-null  float64\n",
      " 14  obtained_date     50000 non-null  object \n",
      " 15  valence           49998 non-null  float64\n",
      " 16  music_genre       50000 non-null  int64  \n",
      " 17  mode_Major        50000 non-null  int64  \n",
      " 18  mode_Minor        50000 non-null  int64  \n",
      "dtypes: float64(13), int64(3), object(3)\n",
      "memory usage: 7.2+ MB\n",
      "None\n",
      "        instance_id    popularity  acousticness  danceability   duration_ms  \\\n",
      "count  50000.000000  49306.000000  49999.000000  50000.000000  4.506100e+04   \n",
      "mean   55888.396360     44.842839      0.306389      0.558241  2.455035e+05   \n",
      "std    20725.256253     14.732361      0.341341      0.178632  1.114333e+05   \n",
      "min    20002.000000      1.000000      0.000001      0.059600  1.550900e+04   \n",
      "25%    37973.500000     34.000000      0.020050      0.442000  1.904670e+05   \n",
      "50%    55913.500000     45.000000      0.144000      0.568000  2.273600e+05   \n",
      "75%    73863.250000     56.000000      0.552000      0.687000  2.756800e+05   \n",
      "max    91759.000000     99.000000      0.996000      0.986000  4.830606e+06   \n",
      "\n",
      "             energy  instrumentalness           key      liveness  \\\n",
      "count  50000.000000      34999.000000  50000.000000  50000.000000   \n",
      "mean       0.599755          0.259437    361.371191      0.193896   \n",
      "std        0.264559          0.362056     74.067396      0.161637   \n",
      "min        0.000792          0.000001    261.630000      0.009670   \n",
      "25%        0.433000          0.000082    293.660000      0.096900   \n",
      "50%        0.643000          0.009750    349.230000      0.126000   \n",
      "75%        0.815000          0.612000    415.300000      0.244000   \n",
      "max        0.999000          0.996000    493.880000      1.000000   \n",
      "\n",
      "           loudness   speechiness         tempo       valence  music_genre  \\\n",
      "count  50000.000000  50000.000000  45020.000000  49998.000000  50000.00000   \n",
      "mean      -9.133761      0.093586    119.952961      0.456283      4.50000   \n",
      "std        6.162990      0.101373     30.641701      0.247107      2.87231   \n",
      "min      -47.046000      0.022300     34.347000      0.019300      0.00000   \n",
      "25%      -10.860000      0.036100     94.941500      0.257000      2.00000   \n",
      "50%       -7.276500      0.048900    119.879000      0.448000      4.50000   \n",
      "75%       -5.173000      0.098525    140.471250      0.648000      7.00000   \n",
      "max        3.744000      0.942000    220.276000      0.992000      9.00000   \n",
      "\n",
      "         mode_Major    mode_Minor  \n",
      "count  50000.000000  50000.000000  \n",
      "mean       0.641980      0.358020  \n",
      "std        0.479423      0.479423  \n",
      "min        0.000000      0.000000  \n",
      "25%        0.000000      0.000000  \n",
      "50%        1.000000      0.000000  \n",
      "75%        1.000000      1.000000  \n",
      "max        1.000000      1.000000  \n"
     ]
    }
   ],
   "source": [
    "print(df.info())\n",
    "print(df.describe())"
   ],
   "metadata": {
    "collapsed": false,
    "pycharm": {
     "name": "#%%\n"
    }
   }
  },
  {
   "cell_type": "code",
   "execution_count": null,
   "outputs": [],
   "source": [],
   "metadata": {
    "collapsed": false,
    "pycharm": {
     "name": "#%%\n"
    }
   }
  }
 ],
 "metadata": {
  "kernelspec": {
   "display_name": "Python 3",
   "language": "python",
   "name": "python3"
  },
  "language_info": {
   "codemirror_mode": {
    "name": "ipython",
    "version": 2
   },
   "file_extension": ".py",
   "mimetype": "text/x-python",
   "name": "python",
   "nbconvert_exporter": "python",
   "pygments_lexer": "ipython2",
   "version": "2.7.6"
  }
 },
 "nbformat": 4,
 "nbformat_minor": 0
}